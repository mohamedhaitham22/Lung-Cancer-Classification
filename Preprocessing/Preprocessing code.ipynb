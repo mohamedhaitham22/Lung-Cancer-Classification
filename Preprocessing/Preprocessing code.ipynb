{
 "cells": [
  {
   "cell_type": "code",
   "execution_count": null,
   "id": "ff475a66",
   "metadata": {
    "_cell_guid": "b1076dfc-b9ad-4769-8c92-a6c4dae69d19",
    "_uuid": "8f2839f25d086af736a60e9eeb907d3b93b6e0e5",
    "execution": {
     "iopub.execute_input": "2024-11-11T16:35:44.470556Z",
     "iopub.status.busy": "2024-11-11T16:35:44.470153Z",
     "iopub.status.idle": "2024-11-11T16:35:58.302530Z",
     "shell.execute_reply": "2024-11-11T16:35:58.301729Z"
    },
    "papermill": {
     "duration": 13.8387,
     "end_time": "2024-11-11T16:35:58.304893",
     "exception": false,
     "start_time": "2024-11-11T16:35:44.466193",
     "status": "completed"
    },
    "tags": []
   },
   "outputs": [],
   "source": [
    "import os\n",
    "import cv2\n",
    "import numpy as np\n",
    "import pandas as pd\n",
    "from sklearn.preprocessing import StandardScaler\n",
    "import glob"
   ]
  },
  {
   "cell_type": "code",
   "execution_count": 2,
   "id": "de113205",
   "metadata": {
    "execution": {
     "iopub.execute_input": "2024-11-11T16:35:58.311357Z",
     "iopub.status.busy": "2024-11-11T16:35:58.310349Z",
     "iopub.status.idle": "2024-11-11T16:35:58.315201Z",
     "shell.execute_reply": "2024-11-11T16:35:58.314465Z"
    },
    "papermill": {
     "duration": 0.009872,
     "end_time": "2024-11-11T16:35:58.317145",
     "exception": false,
     "start_time": "2024-11-11T16:35:58.307273",
     "status": "completed"
    },
    "tags": []
   },
   "outputs": [],
   "source": [
    "# Define the main data path and the class subfolders\n",
    "data_path = \"/kaggle/input/lung-and-colon-cancer-histopathological-images/lung_colon_image_set/lung_image_sets\"\n",
    "classes = ['lung_aca', 'lung_n', 'lung_scc']  # Class subfolders\n",
    "\n",
    "# Define the output base folder\n",
    "output_base_folder = \"/kaggle/working/data_after_prerocessing\""
   ]
  },
  {
   "cell_type": "code",
   "execution_count": null,
   "id": "978a1262",
   "metadata": {
    "execution": {
     "iopub.execute_input": "2024-11-11T16:35:58.323030Z",
     "iopub.status.busy": "2024-11-11T16:35:58.322330Z",
     "iopub.status.idle": "2024-11-11T16:35:58.339262Z",
     "shell.execute_reply": "2024-11-11T16:35:58.338583Z"
    },
    "papermill": {
     "duration": 0.021919,
     "end_time": "2024-11-11T16:35:58.341060",
     "exception": false,
     "start_time": "2024-11-11T16:35:58.319141",
     "status": "completed"
    },
    "tags": []
   },
   "outputs": [],
   "source": [
    "# Resize dimension and color normalization target stats\n",
    "RESIZE_DIM = (224, 224) #or (256, 256) based on the model that u will use\n",
    "\n",
    "# Use computed averages for normalization\n",
    "lung_aca_mean = [159.11632787, 133.45948309, 230.42239682]\n",
    "lung_aca_std = [40.84, 51.88, 21.86]\n",
    "\n",
    "lung_n_mean = [201.32406849, 158.39889114, 194.89485492]\n",
    "lung_n_std = [32.79, 51.90, 26.28]\n",
    "\n",
    "lung_scc_mean = [151.9113276, 116.753016, 225.89104331]\n",
    "lung_scc_std = [36.33, 38.97, 20.08]\n",
    "\n",
    "# Calculate overall target mean and std by averaging the values\n",
    "target_mean = np.mean([lung_aca_mean, lung_n_mean, lung_scc_mean], axis=0).tolist()\n",
    "target_std = np.mean([lung_aca_std, lung_n_std, lung_scc_std], axis=0).tolist()\n",
    "\n",
    "# Function for Reinhard color normalization\n",
    "def reinhard_color_normalization(patch, target_mean, target_std):\n",
    "    \"\"\"Applies Reinhard color normalization to a patch.\"\"\"\n",
    "    # Convert the patch to LAB color space\n",
    "    patch_lab = cv2.cvtColor(patch, cv2.COLOR_RGB2LAB)\n",
    "    \n",
    "    # Separate the LAB channels\n",
    "    l, a, b = cv2.split(patch_lab)\n",
    "\n",
    "    # Normalize each channel\n",
    "    l_mean, l_std = np.mean(l), np.std(l)\n",
    "    a_mean, a_std = np.mean(a), np.std(a)\n",
    "    b_mean, b_std = np.mean(b), np.std(b)\n",
    "\n",
    "    l = (l - l_mean) / l_std * target_std[0] + target_mean[0]\n",
    "    a = (a - a_mean) / a_std * target_std[1] + target_mean[1]\n",
    "    b = (b - b_mean) / b_std * target_std[2] + target_mean[2]\n",
    "\n",
    "    # Merge channels and convert back to RGB\n",
    "    normalized_patch_lab = cv2.merge((l, a, b))\n",
    "    normalized_patch = cv2.cvtColor(normalized_patch_lab.astype(np.uint8), cv2.COLOR_LAB2RGB)\n",
    "\n",
    "    return normalized_patch\n",
    "\n",
    "# Function for Min-Max normalization\n",
    "def min_max_normalization(image):\n",
    "    image_float = image.astype(np.float32)\n",
    "    min_val = np.min(image_float)\n",
    "    max_val = np.max(image_float)\n",
    "    normalized_image = (image_float - min_val) / (max_val - min_val)\n",
    "    return normalized_image\n",
    "\n",
    "# Function to apply Watershed segmentation after Min-Max normalization\n",
    "def watershed_segmentation(patch):\n",
    "    \"\"\"Applies Watershed segmentation on a patch.\"\"\"\n",
    "    # Convert the patch to 8-bit unsigned integer format\n",
    "    patch_uint8 = (patch * 255).astype(np.uint8)\n",
    "\n",
    "    # Convert to grayscale\n",
    "    gray = cv2.cvtColor(patch_uint8, cv2.COLOR_RGB2GRAY)\n",
    "    \n",
    "    # Apply Otsu's thresholding to create a binary image\n",
    "    _, thresh = cv2.threshold(gray, 0, 255, cv2.THRESH_BINARY_INV + cv2.THRESH_OTSU)\n",
    "\n",
    "    # Remove small noise using morphological operations\n",
    "    kernel = np.ones((3, 3), np.uint8)\n",
    "    sure_bg = cv2.dilate(thresh, kernel, iterations=2)\n",
    "    \n",
    "    # Finding sure foreground area\n",
    "    dist_transform = cv2.distanceTransform(thresh, cv2.DIST_L2, 5)\n",
    "    _, sure_fg = cv2.threshold(dist_transform, 0.7 * dist_transform.max(), 255, 0)\n",
    "    \n",
    "    # Finding unknown region\n",
    "    sure_fg = np.uint8(sure_fg)\n",
    "    unknown = cv2.subtract(sure_bg, sure_fg)\n",
    "    \n",
    "    # Marker labelling\n",
    "    _, markers = cv2.connectedComponents(sure_fg)\n",
    "    \n",
    "    # Add one to all markers to ensure the background is not zero\n",
    "    markers = markers + 1\n",
    "    \n",
    "    # Mark the region of unknown with zero\n",
    "    markers[unknown == 255] = 0\n",
    "    \n",
    "    # Apply the watershed algorithm\n",
    "    patch_bgr = cv2.cvtColor(patch_uint8, cv2.COLOR_RGB2BGR)\n",
    "    markers = cv2.watershed(patch_bgr, markers)\n",
    "    \n",
    "    # Mark boundary regions (watershed regions) in red\n",
    "    patch_bgr[markers == -1] = [255, 0, 0]  # Mark boundaries with red\n",
    "    \n",
    "    # Convert back to RGB\n",
    "    patch_segmented = cv2.cvtColor(patch_bgr, cv2.COLOR_BGR2RGB)\n",
    "    \n",
    "    return patch_segmented"
   ]
  },
  {
   "cell_type": "code",
   "execution_count": 4,
   "id": "2302750a",
   "metadata": {
    "execution": {
     "iopub.execute_input": "2024-11-11T16:35:58.346304Z",
     "iopub.status.busy": "2024-11-11T16:35:58.346016Z",
     "iopub.status.idle": "2024-11-11T16:42:15.572522Z",
     "shell.execute_reply": "2024-11-11T16:42:15.571538Z"
    },
    "papermill": {
     "duration": 377.237014,
     "end_time": "2024-11-11T16:42:15.580127",
     "exception": false,
     "start_time": "2024-11-11T16:35:58.343113",
     "status": "completed"
    },
    "tags": []
   },
   "outputs": [
    {
     "name": "stdout",
     "output_type": "stream",
     "text": [
      "Saved 5000 segmented images to '/kaggle/working/data_after_prerocessing/lung_aca'\n",
      "Saved 5000 segmented images to '/kaggle/working/data_after_prerocessing/lung_n'\n",
      "Saved 5000 segmented images to '/kaggle/working/data_after_prerocessing/lung_scc'\n"
     ]
    }
   ],
   "source": [
    "# Process each class in parallel\n",
    "for cls in classes:\n",
    "    # Create the input folder for the class\n",
    "    input_folder = os.path.join(data_path, cls)\n",
    "    # Get all image paths for this class\n",
    "    image_paths = glob.glob(os.path.join(input_folder, \"*.*\"))  # Match all files\n",
    "    \n",
    "    # List to store loaded images\n",
    "    images = []\n",
    "\n",
    "    # Load each image\n",
    "    for image_path in image_paths:\n",
    "        image = cv2.imread(image_path)\n",
    "        if image is None:\n",
    "            print(f\"Error: Could not load image {image_path}\")\n",
    "            continue\n",
    "        # Convert BGR to RGB\n",
    "        image = cv2.cvtColor(image, cv2.COLOR_BGR2RGB)\n",
    "        images.append(image)\n",
    "\n",
    "    # Apply resizing to each image\n",
    "    resized_images = [cv2.resize(image, RESIZE_DIM, interpolation=cv2.INTER_LANCZOS4) for image in images]\n",
    "\n",
    "    # Apply color normalization to all resized images\n",
    "    normalized_images = [reinhard_color_normalization(image, target_mean, target_std) for image in resized_images]\n",
    "\n",
    "    # Apply Min-Max normalization to all normalized images\n",
    "    min_max_normalized_images = [min_max_normalization(image) for image in normalized_images]\n",
    "\n",
    "    # Apply Watershed segmentation to all min-max normalized images\n",
    "    segmented_images = [watershed_segmentation(image) for image in min_max_normalized_images]\n",
    "\n",
    "    # Create the output folder for this class\n",
    "    output_folder = os.path.join(output_base_folder, cls)\n",
    "    os.makedirs(output_folder, exist_ok=True)\n",
    "\n",
    "    # Save each segmented image as an image file\n",
    "    for i, image in enumerate(segmented_images):\n",
    "        image_to_save = (image * 255).astype(np.uint8)  # Scale back to [0, 255]\n",
    "        file_name = os.path.join(output_folder, f'segmented_image_{i + 1}.png')\n",
    "        cv2.imwrite(file_name, image_to_save)\n",
    "\n",
    "    print(f\"Saved {len(segmented_images)} segmented images to '{output_folder}'\")"
   ]
  }
 ],
 "metadata": {
  "kaggle": {
   "accelerator": "gpu",
   "dataSources": [
    {
     "datasetId": 601280,
     "sourceId": 1079953,
     "sourceType": "datasetVersion"
    }
   ],
   "isGpuEnabled": true,
   "isInternetEnabled": true,
   "language": "python",
   "sourceType": "notebook"
  },
  "kernelspec": {
   "display_name": "Python 3",
   "language": "python",
   "name": "python3"
  },
  "language_info": {
   "codemirror_mode": {
    "name": "ipython",
    "version": 3
   },
   "file_extension": ".py",
   "mimetype": "text/x-python",
   "name": "python",
   "nbconvert_exporter": "python",
   "pygments_lexer": "ipython3",
   "version": "3.10.14"
  },
  "papermill": {
   "default_parameters": {},
   "duration": 396.849535,
   "end_time": "2024-11-11T16:42:18.586821",
   "environment_variables": {},
   "exception": null,
   "input_path": "__notebook__.ipynb",
   "output_path": "__notebook__.ipynb",
   "parameters": {},
   "start_time": "2024-11-11T16:35:41.737286",
   "version": "2.6.0"
  }
 },
 "nbformat": 4,
 "nbformat_minor": 5
}
